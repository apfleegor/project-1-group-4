{
 "cells": [
  {
   "cell_type": "code",
   "execution_count": null,
   "id": "39f20b6a",
   "metadata": {},
   "outputs": [],
   "source": [
    "# Dependencies and Setup\n",
    "import matplotlib.pyplot as plt\n",
    "import pandas as pd\n",
    "import scipy.stats as st\n",
    "import numpy as np\n",
    "from scipy.stats import linregress\n",
    "from matplotlib.pyplot import figure\n",
    "import string\n",
    "\n",
    "happiness_path = \"Resources/Gallup2018.csv\"\n",
    "\n",
    "happiness_df = pd.read_csv(happiness_path)\n",
    "\n",
    "\n",
    "Personal_Income_by_State_2018_path = \"Resources/Personal Income by State 2018.csv\"\n",
    "\n",
    "Personal_Income_df = pd.read_csv(Personal_Income_by_State_2018_path)\n",
    "\n",
    "\n",
    "US_State_Tax_Rate_2018_path = \"Resources/US State Tax Rate 2018.csv\"\n",
    "\n",
    "State_Tax_Rate_df = pd.read_csv(US_State_Tax_Rate_2018_path)\n",
    "\n",
    "\n",
    "Poverty_rate_by_US_State_2018_path = \"Resources/Poverty rate by US State 2018.csv\"\n",
    "\n",
    "Poverty_Rate_df = pd.read_csv(Poverty_rate_by_US_State_2018_path)\n",
    "\n",
    "\n",
    "Unemployment_rate_per_US_State_path = \"Resources/Unemployment rate per US State.csv\"\n",
    "\n",
    "Unemployment_Rate_df = pd.read_csv(Unemployment_rate_per_US_State_path)"
   ]
  },
  {
   "cell_type": "code",
   "execution_count": null,
   "id": "b3ed459d",
   "metadata": {},
   "outputs": [],
   "source": [
    "Income_merge_df = pd.merge(Personal_Income_df, happiness_df, on='State', how='inner')\n",
    "Income_merge_df"
   ]
  },
  {
   "cell_type": "code",
   "execution_count": null,
   "id": "c5e66446",
   "metadata": {},
   "outputs": [],
   "source": [
    "df = Income_merge_df\n",
    "del df[\"LineCode\"]\n",
    "del df[\"Description\"]\n",
    "del df[\"2018 sample size\"]\n",
    "del df[\"Social\"]\n",
    "del df[\"Community\"]\n",
    "del df[\"Physical\"]\n",
    "Income_merge_df"
   ]
  },
  {
   "cell_type": "code",
   "execution_count": null,
   "id": "87605be5",
   "metadata": {},
   "outputs": [],
   "source": [
    "Income_merge_df.describe()"
   ]
  },
  {
   "cell_type": "code",
   "execution_count": null,
   "id": "cb2d9fd1",
   "metadata": {},
   "outputs": [],
   "source": [
    "Income_merge_df = Income_merge_df.set_index('State')"
   ]
  },
  {
   "cell_type": "code",
   "execution_count": null,
   "id": "f3b18a52",
   "metadata": {},
   "outputs": [],
   "source": [
    "well_being_index_rank = Income_merge_df.iloc[:,3]\n",
    "average_personal_income = Income_merge_df.iloc[:,2]"
   ]
  },
  {
   "cell_type": "code",
   "execution_count": null,
   "id": "306d72ab",
   "metadata": {},
   "outputs": [],
   "source": [
    "plt.scatter(well_being_index_rank, average_personal_income)\n",
    "\n",
    "well_being_index_rank = np.arange(1, 50, 1)\n",
    "average_personal_income = np.arange(15000.0, 80000.0, 1000.0)\n",
    "\n",
    "# formatting\n",
    "plt.xlabel('Well-Being Index Rank')\n",
    "plt.ylabel('Average Personal Income ($)')\n",
    "plt.title('Average Personal Income (2018) v. Well-Being Index Rank')\n",
    "\n",
    "plt.show()"
   ]
  },
  {
   "cell_type": "code",
   "execution_count": null,
   "id": "d218e34d",
   "metadata": {},
   "outputs": [],
   "source": [
    "#well_being_index_rank = Income_merge_df.iloc[:,3]\n",
    "#average_personal_income = Income_merge_df.iloc[:,2]"
   ]
  },
  {
   "cell_type": "code",
   "execution_count": null,
   "id": "eac393a2",
   "metadata": {},
   "outputs": [],
   "source": [
    "#import matplotlib.pyplot as plt\n",
    "#import numpy as np\n",
    "#from numpy import array\n",
    "\n",
    "#Income_merge_df.reset_index().plot.scatter(x = 'Well-Being Index Rank', y = 'Average Personal Income')\n",
    "\n",
    "# Data for plotting\n",
    "#x = np.arange(15000.0, 80000.0, 1000.0)\n",
    "#y = np.arange(1, 50, 1)\n",
    "\n",
    "#Income_merge_df = Income_merge_df.loc[Income_merge_df[\"State\",:]\n",
    "                                      \n",
    "#fig1, ax1 = plt.subplots(figsize=(15, 10))\n",
    "#average_personal_income = Income_merge_df.groupby(['State'])\n",
    "\n",
    "\n",
    "#marker_size=15\n",
    "#plt.scatter([(well_being_index_rank, average_personal_income)],s=175, color=\"blue\")\n",
    "#plt.title('Well-Being Index Versus Average Personal Income',fontsize =25)\n",
    "#plt.xlabel('2018',fontsize =14)\n",
    "#plt.ylabel('Well-Being Index',fontsize =14)\n",
    "#plt.xticks(x,['State'],rotation='vertical')\n",
    "\n",
    "#plt.plot(x, y)\n",
    "                                      \n",
    "#plt.savefig(\"./Images/scatterplot.png\", bbox_inches = \"tight\")\n",
    "#plt.show()"
   ]
  },
  {
   "cell_type": "code",
   "execution_count": null,
   "id": "874ef101",
   "metadata": {},
   "outputs": [],
   "source": [
    "# Calculate the correlation coefficient and linear regression model \n",
    "\n",
    "corr=round(st.pearsonr(average_personal_income['average_personal_income ($)'],well_being_index_rank['Rank'])[0],2)\n",
    "print(f\"The correlation between Average Personal Income and a State's Well-Being Index Rank is {corr}\")"
   ]
  },
  {
   "cell_type": "code",
   "execution_count": null,
   "id": "1f5cb5b6",
   "metadata": {},
   "outputs": [],
   "source": [
    "x_values = average_personal_income['Average Personal Income']\n",
    "y_values = well_being_index_rank['well_being_index_rank']\n",
    "\n",
    "(slope, intercept, rvalue, pvalue, stderr) = linregress(x_values, y_values)\n",
    "regress_values = x_values * slope + intercept\n",
    "\n",
    "print(f\"slope:{slope}\")\n",
    "print(f\"intercept:{intercept}\")\n",
    "print(f\"rvalue (Correlation coefficient):{rvalue}\")\n",
    "print(f\"pandas (Correlation coefficient):{corr}\")\n",
    "print(f\"stderr:{stderr}\")\n",
    "\n",
    "line_eq = \"y = \" + str(round(slope,2)) + \"x + \" + str(round(intercept,2))\n",
    "\n",
    "print(line_eq)"
   ]
  },
  {
   "cell_type": "code",
   "execution_count": null,
   "id": "920bcde6",
   "metadata": {},
   "outputs": [],
   "source": [
    "from scipy.stats import linregress\n",
    "(slope, intercept, rvalue, pvalue, stderr) = linregress(x_values, y_values)\n",
    "regress_values = x_values * slope + intercept\n",
    "line_eq = \"y = \" + str(round(slope,2)) + \"x + \" + str(round(intercept,2))\n",
    "plt.scatter(x_values,y_values)\n",
    "plt.plot(x_values,regress_values,\"r-\")\n",
    "plt.annotate(line_eq,(6,10),fontsize=15,color=\"red\")\n",
    "plt.xlabel('Average Personal Income ($)')\n",
    "plt.ylabel('Well-Being Index Rank')\n",
    "\n",
    "# Print out the r-squared value along with the plot.\n",
    "\n",
    "print(f\"The r-squared is: {rvalue}\")\n",
    "plt.savefig('Average Personal Income v. Well-Being Index Rank w regression')\n",
    "plt.show()"
   ]
  },
  {
   "cell_type": "code",
   "execution_count": null,
   "id": "b93078b7",
   "metadata": {},
   "outputs": [],
   "source": [
    "#Tax_merge_df = pd.merge(State_Tax_Rate_df, happiness_df, on='State', how='inner')\n",
    "#Tax_merge_df"
   ]
  },
  {
   "cell_type": "code",
   "execution_count": null,
   "id": "ad01efcb",
   "metadata": {},
   "outputs": [],
   "source": [
    "#df = State_Tax_Rate_df\n",
    "#del df[\"LineCode\"]\n",
    "#del df[\"Description\"]\n",
    "#del df[\"2018 sample size\"]\n",
    "#del df[\"Social\"]\n",
    "#del df[\"Community\"]\n",
    "#del df[\"Physical\"]\n",
    "#State_Tax_Rate_df"
   ]
  },
  {
   "cell_type": "code",
   "execution_count": null,
   "id": "2f09a90b",
   "metadata": {},
   "outputs": [],
   "source": [
    "#State_Tax_Rate_df.describe()"
   ]
  },
  {
   "cell_type": "code",
   "execution_count": null,
   "id": "a95733ae",
   "metadata": {},
   "outputs": [],
   "source": [
    "#State_Tax_Rate_df = State_Tax_Rate_df.set_index('State')"
   ]
  },
  {
   "cell_type": "code",
   "execution_count": null,
   "id": "ff97430d",
   "metadata": {},
   "outputs": [],
   "source": [
    "#well_being_index_rank = State_Tax_Rate_df.iloc[:,3]\n",
    "#total_state_tax_rate = State_Tax_Rate_df.iloc[:,2]"
   ]
  },
  {
   "cell_type": "code",
   "execution_count": null,
   "id": "69d09c38",
   "metadata": {},
   "outputs": [],
   "source": [
    "#plt.scatter(well_being_index_rank, total_state_tax_rate)\n",
    "\n",
    "#well_being_index_rank = np.arange(1, 50, 1)\n",
    "#total_state_tax_rate = np.arange(15000.0, 80000.0, 1000.0)\n",
    "\n",
    "# formatting\n",
    "#plt.xlabel('Well-Being Index Rank')\n",
    "#plt.ylabel('Total State Tax Rate (%)')\n",
    "#plt.title('Total State Tax Rate (%) (2018) v. Well-Being Index Rank')\n",
    "\n",
    "#plt.show()"
   ]
  },
  {
   "cell_type": "code",
   "execution_count": null,
   "id": "99b3c088",
   "metadata": {},
   "outputs": [],
   "source": [
    "#well_being_index_rank = State_Tax_Rate_df.iloc[:,3]\n",
    "#total_state_tax_rate = State_Tax_Rate_df.iloc[:,2]"
   ]
  },
  {
   "cell_type": "code",
   "execution_count": null,
   "id": "b2d14031",
   "metadata": {},
   "outputs": [],
   "source": [
    "#import matplotlib.pyplot as plt\n",
    "#import numpy as np\n",
    "#from numpy import array\n",
    "\n",
    "#State_Tax_Rate_df.reset_index().plot.scatter(x = 'Well-Being Index Rank', y = 'Total State Tax Rate')\n",
    "\n",
    "# Data for plotting\n",
    "#x = np.arange(15000.0, 80000.0, 1000.0)\n",
    "#y = np.arange(1, 50, 1)\n",
    "\n",
    "#State_Tax_Rate_df = State_Tax_Rate_df.loc[State_Tax_Rate_df[\"State\",:]\n",
    "                                      \n",
    "#fig1, ax1 = plt.subplots(figsize=(15, 10))\n",
    "#State_Rank = State_Tax_Rate_df.groupby(['State'])\n",
    "\n",
    "\n",
    "#marker_size=15\n",
    "#plt.scatter([(well_being_index_rank, State_Tax_Rate_df)],s=175, color=\"blue\")\n",
    "#plt.title('Well-Being Index Versus Total State Tax Rate',fontsize =25)\n",
    "#plt.xlabel('Total State Tax Rate',fontsize =14)\n",
    "#plt.ylabel('Well-Being Index',fontsize =14)\n",
    "#plt.xticks(x,['State'],rotation='vertical')\n",
    "\n",
    "#plt.plot(x, y)\n",
    "                                      \n",
    "#plt.savefig(\"./Images/scatterplot1.png\", bbox_inches = \"tight\")\n",
    "#plt.show()"
   ]
  },
  {
   "cell_type": "code",
   "execution_count": null,
   "id": "0e32c3ad",
   "metadata": {},
   "outputs": [],
   "source": [
    "# Calculate the correlation coefficient and linear regression model \n",
    "\n",
    "#corr=round(st.pearsonr(total_state_tax_rate['Tax Rate (%)'],well_being_index_rank['Rank'])[0],2)\n",
    "#print(f\"The correlation between Total State Tax Rate and a State's Well-Being Index Rank is {corr}\")"
   ]
  },
  {
   "cell_type": "code",
   "execution_count": null,
   "id": "ec7aa0a7",
   "metadata": {},
   "outputs": [],
   "source": [
    "#x_values = total_state_tax_rate['Total State Tax Rate']\n",
    "#y_values = well_being_index_rank['well_being_index_rank']\n",
    "\n",
    "#(slope, intercept, rvalue, pvalue, stderr) = linregress(x_values, y_values)\n",
    "#regress_values = x_values * slope + intercept\n",
    "\n",
    "#print(f\"slope:{slope}\")\n",
    "#print(f\"intercept:{intercept}\")\n",
    "#print(f\"rvalue (Correlation coefficient):{rvalue}\")\n",
    "#print(f\"pandas (Correlation coefficient):{corr}\")\n",
    "#print(f\"stderr:{stderr}\")\n",
    "\n",
    "#line_eq = \"y = \" + str(round(slope,2)) + \"x + \" + str(round(intercept,2))\n",
    "\n",
    "#print(line_eq)"
   ]
  },
  {
   "cell_type": "code",
   "execution_count": null,
   "id": "e8889288",
   "metadata": {},
   "outputs": [],
   "source": [
    "#from scipy.stats import linregress\n",
    "#(slope, intercept, rvalue, pvalue, stderr) = linregress(x_values, y_values)\n",
    "#regress_values = x_values * slope + intercept\n",
    "#line_eq = \"y = \" + str(round(slope,2)) + \"x + \" + str(round(intercept,2))\n",
    "#plt.scatter(x_values,y_values)\n",
    "#plt.plot(x_values,regress_values,\"r-\")\n",
    "#plt.annotate(line_eq,(6,10),fontsize=15,color=\"red\")\n",
    "#plt.xlabel('Total State Tax Rate (%)')\n",
    "#plt.ylabel('Well-being Index Rank')\n",
    "\n",
    "# Print out the r-squared value along with the plot.\n",
    "\n",
    "#print(f\"The r-squared is: {rvalue}\")\n",
    "#plt.savefig('Total State Tax Rate v. Well-Being Index Rank w regression')\n",
    "#plt.show()"
   ]
  },
  {
   "cell_type": "code",
   "execution_count": null,
   "id": "90dd1480",
   "metadata": {},
   "outputs": [],
   "source": [
    "#Poverty_merge_df = pd.merge(Poverty_Rate_df, happiness_df, on='State', how='inner')\n",
    "#Poverty_merge_df"
   ]
  },
  {
   "cell_type": "code",
   "execution_count": null,
   "id": "fcf148d0",
   "metadata": {},
   "outputs": [],
   "source": [
    "#df = Poverty_merge_df\n",
    "#del df[\"LineCode\"]\n",
    "#del df[\"Description\"]\n",
    "#del df[\"2018 sample size\"]\n",
    "#del df[\"Social\"]\n",
    "#del df[\"Community\"]\n",
    "#del df[\"Physical\"]\n",
    "#Poverty_merge_df"
   ]
  },
  {
   "cell_type": "code",
   "execution_count": null,
   "id": "b9a70401",
   "metadata": {},
   "outputs": [],
   "source": [
    "#Poverty_merge_df.describe()"
   ]
  },
  {
   "cell_type": "code",
   "execution_count": null,
   "id": "6f1b0e0d",
   "metadata": {},
   "outputs": [],
   "source": [
    "#Poverty_merge_df = Poverty_merge_df.set_index('State')"
   ]
  },
  {
   "cell_type": "code",
   "execution_count": null,
   "id": "e8e59fd3",
   "metadata": {},
   "outputs": [],
   "source": [
    "#well_being_index_rank = Poverty_merge_df.iloc[:,3]\n",
    "#Poverty_Rate = Poverty_merge_df.iloc[:,2]"
   ]
  },
  {
   "cell_type": "code",
   "execution_count": null,
   "id": "f272b7fb",
   "metadata": {},
   "outputs": [],
   "source": [
    "#plt.scatter(well_being_index_rank, Poverty_Rate)\n",
    "\n",
    "#well_being_index_rank = np.arange(1, 50, 1)\n",
    "#Poverty_Rate = np.arange(15000.0, 80000.0, 1000.0)\n",
    "\n",
    "# formatting\n",
    "#plt.xlabel('Well-Being Index Rank')\n",
    "#plt.ylabel('State Poverty Rate (%)')\n",
    "#plt.title('State Poverty Rate (2018) v. Well-Being Index Rank')\n",
    "\n",
    "#plt.show()"
   ]
  },
  {
   "cell_type": "code",
   "execution_count": null,
   "id": "4840fe9b",
   "metadata": {},
   "outputs": [],
   "source": [
    "#well_being_index_rank = Poverty_merge_df.iloc[:,3]\n",
    "#Poverty_Rate = Poverty_merge_df.iloc[:,2]"
   ]
  },
  {
   "cell_type": "code",
   "execution_count": null,
   "id": "3d3c2169",
   "metadata": {},
   "outputs": [],
   "source": [
    "#import matplotlib.pyplot as plt\n",
    "#import numpy as np\n",
    "#from numpy import array\n",
    "\n",
    "#Poverty_merge_df.reset_index().plot.scatter(x = 'Well-Being Index Rank', y = 'State Poverty Rate')\n",
    "\n",
    "# Data for plotting\n",
    "#x = np.arange(15000.0, 80000.0, 1000.0)\n",
    "#y = np.arange(1, 50, 1)\n",
    "\n",
    "#Poverty_merge_df = Poverty_merge_df.loc[Poverty_merge_df[\"State\",:]\n",
    "                                      \n",
    "#fig1, ax1 = plt.subplots(figsize=(15, 10))\n",
    "#State_Rank = Poverty_merge_df.groupby(['State'])\n",
    "\n",
    "\n",
    "#marker_size=15\n",
    "#plt.scatter([(well_being_index_rank, Poverty_merge)],s=175, color=\"blue\")\n",
    "#plt.title('Well-Being Index Versus State Poverty Rate',fontsize =25)\n",
    "#plt.xlabel('State Poverty Rate',fontsize =14)\n",
    "#plt.ylabel('Well-Being Index',fontsize =14)\n",
    "#plt.xticks(x,['State'],rotation='vertical')\n",
    "\n",
    "#plt.plot(x, y)\n",
    "                                      \n",
    "#plt.savefig(\"./Images/scatterplot2.png\", bbox_inches = \"tight\")\n",
    "#plt.show()"
   ]
  },
  {
   "cell_type": "code",
   "execution_count": null,
   "id": "fd327489",
   "metadata": {},
   "outputs": [],
   "source": [
    "# Calculate the correlation coefficient and linear regression model \n",
    "\n",
    "#corr=round(st.pearsonr(poverty_rate['Poverty Rate (%)'],well_being_index_rank['Rank'])[0],2)\n",
    "#print(f\"The correlation between Poverty Rate and a State's Well-Being Index Rank is {corr}\")"
   ]
  },
  {
   "cell_type": "code",
   "execution_count": null,
   "id": "f1ad453a",
   "metadata": {},
   "outputs": [],
   "source": [
    "#x_values = poverty_rate['State Poverty Rate']\n",
    "#y_values = well_being_index_rank['well_being_index_rank']\n",
    "\n",
    "#(slope, intercept, rvalue, pvalue, stderr) = linregress(x_values, y_values)\n",
    "#regress_values = x_values * slope + intercept\n",
    "\n",
    "#print(f\"slope:{slope}\")\n",
    "#print(f\"intercept:{intercept}\")\n",
    "#print(f\"rvalue (Correlation coefficient):{rvalue}\")\n",
    "#print(f\"pandas (Correlation coefficient):{corr}\")\n",
    "#print(f\"stderr:{stderr}\")\n",
    "\n",
    "#line_eq = \"y = \" + str(round(slope,2)) + \"x + \" + str(round(intercept,2))\n",
    "\n",
    "#print(line_eq)"
   ]
  },
  {
   "cell_type": "code",
   "execution_count": null,
   "id": "99f3d511",
   "metadata": {},
   "outputs": [],
   "source": [
    "#from scipy.stats import linregress\n",
    "#(slope, intercept, rvalue, pvalue, stderr) = linregress(x_values, y_values)\n",
    "#regress_values = x_values * slope + intercept\n",
    "#line_eq = \"y = \" + str(round(slope,2)) + \"x + \" + str(round(intercept,2))\n",
    "#plt.scatter(x_values,y_values)\n",
    "#plt.plot(x_values,regress_values,\"r-\")\n",
    "#plt.annotate(line_eq,(6,10),fontsize=15,color=\"red\")\n",
    "#plt.xlabel('Poverty Rate (%)')\n",
    "#plt.ylabel('Well-Being Index Rank')\n",
    "\n",
    "# Print out the r-squared value along with the plot.\n",
    "\n",
    "#print(f\"The r-squared is: {rvalue}\")\n",
    "#plt.savefig('State Poverty Rate v Well-Being Index Rank w regression')\n",
    "#plt.show()"
   ]
  },
  {
   "cell_type": "code",
   "execution_count": null,
   "id": "37732a5f",
   "metadata": {},
   "outputs": [],
   "source": [
    "#Unemployment_merge_df = pd.merge(Unemployment_Rate_df, happiness_df, on='State', how='inner')\n",
    "#Unemployment_merge_df"
   ]
  },
  {
   "cell_type": "code",
   "execution_count": null,
   "id": "67a4ffea",
   "metadata": {},
   "outputs": [],
   "source": [
    "#df = Unemployment_merge_df\n",
    "#del df[\"LineCode\"]\n",
    "#del df[\"Description\"]\n",
    "#del df[\"2018 sample size\"]\n",
    "#del df[\"Social\"]\n",
    "#del df[\"Community\"]\n",
    "#del df[\"Physical\"]\n",
    "#Unemployment_merge_df"
   ]
  },
  {
   "cell_type": "code",
   "execution_count": null,
   "id": "c3986045",
   "metadata": {},
   "outputs": [],
   "source": [
    "#Unemployment_merge_df.describe()"
   ]
  },
  {
   "cell_type": "code",
   "execution_count": null,
   "id": "316152cc",
   "metadata": {},
   "outputs": [],
   "source": [
    "#Unemployment_merge_df = Unemployment_merge_df.set_index('State')"
   ]
  },
  {
   "cell_type": "code",
   "execution_count": null,
   "id": "39103ba9",
   "metadata": {},
   "outputs": [],
   "source": [
    "#well_being_index_rank = Unemployment_merge_df.iloc[:,3]\n",
    "#Unemployment_merge = Unemployment_merge_df.iloc[:,2]"
   ]
  },
  {
   "cell_type": "code",
   "execution_count": null,
   "id": "41c160f8",
   "metadata": {},
   "outputs": [],
   "source": [
    "#plt.scatter(well_being_index_rank, Unemployment_merge)\n",
    "\n",
    "#well_being_index_rank = np.arange(1, 50, 1)\n",
    "#Unemployment_merge = np.arange(15000.0, 80000.0, 1000.0)\n",
    "\n",
    "# formatting\n",
    "#plt.xlabel('Well-Being Index Rank')\n",
    "#plt.ylabel('Unemplyment Rate (%)')\n",
    "#plt.title('Unemployment Rate (2018) v. Well-Being Index Rank')\n",
    "\n",
    "#plt.show()"
   ]
  },
  {
   "cell_type": "code",
   "execution_count": null,
   "id": "250de5cb",
   "metadata": {},
   "outputs": [],
   "source": [
    "#well_being_index_rank = Unemployment_merge_df.iloc[:,3]\n",
    "#Unemployment_merge = Unemployment_merge_df.iloc[:,2]"
   ]
  },
  {
   "cell_type": "code",
   "execution_count": null,
   "id": "1d6eac38",
   "metadata": {},
   "outputs": [],
   "source": [
    "#import matplotlib.pyplot as plt\n",
    "#import numpy as np\n",
    "#from numpy import array\n",
    "\n",
    "#Unemployment_merge_df.reset_index().plot.scatter(x = 'Well-Being Index Rank', y = 'Unemployment Rate')\n",
    "\n",
    "# Data for plotting\n",
    "#x = np.arange(15000.0, 80000.0, 1000.0)\n",
    "#y = np.arange(1, 50, 1)\n",
    "\n",
    "#Unemployment_merge_df = Unemployment_merge_df.loc[Income_merge_df[\"State\",:]\n",
    "                                      \n",
    "#fig1, ax1 = plt.subplots(figsize=(15, 10))\n",
    "#State_Rank = Unemployment_merge_df.groupby(['State'])\n",
    "\n",
    "\n",
    "#marker_size=15\n",
    "#plt.scatter([(well_being_index_rank, Unemployment_merge)],s=175, color=\"blue\")\n",
    "#plt.title('Well-Being Index Versus Unemplyment Rate',fontsize =25)\n",
    "#plt.xlabel('Unemployment Rate',fontsize =14)\n",
    "#plt.ylabel('Well-Being Index',fontsize =14)\n",
    "#plt.xticks(x,['State'],rotation='vertical')\n",
    "\n",
    "#plt.plot(x, y)\n",
    "                                      \n",
    "#plt.savefig(\"./Images/scatterplot3.png\", bbox_inches = \"tight\")\n",
    "#plt.show()"
   ]
  },
  {
   "cell_type": "code",
   "execution_count": null,
   "id": "42a7416f",
   "metadata": {},
   "outputs": [],
   "source": [
    "# Calculate the correlation coefficient and linear regression model \n",
    "\n",
    "#corr=round(st.pearsonr(Unemployment_merge['Poverty Rate (%)'],well_being_index_rank['Rank'])[0],2)\n",
    "#print(f\"The correlation between Unemplyment Rate and a State's Well-Being Index Rank is {corr}\")"
   ]
  },
  {
   "cell_type": "code",
   "execution_count": null,
   "id": "6ea53bba",
   "metadata": {},
   "outputs": [],
   "source": [
    "#x_values = Unemployment_rate['Unemplyment Rate']\n",
    "#y_values = well_being_index_rank['well_being_index_rank']\n",
    "\n",
    "#(slope, intercept, rvalue, pvalue, stderr) = linregress(x_values, y_values)\n",
    "#regress_values = x_values * slope + intercept\n",
    "\n",
    "#print(f\"slope:{slope}\")\n",
    "#print(f\"intercept:{intercept}\")\n",
    "#print(f\"rvalue (Correlation coefficient):{rvalue}\")\n",
    "#print(f\"pandas (Correlation coefficient):{corr}\")\n",
    "#print(f\"stderr:{stderr}\")\n",
    "\n",
    "#line_eq = \"y = \" + str(round(slope,2)) + \"x + \" + str(round(intercept,2))\n",
    "\n",
    "#print(line_eq)"
   ]
  },
  {
   "cell_type": "code",
   "execution_count": null,
   "id": "e4196796",
   "metadata": {},
   "outputs": [],
   "source": [
    "#from scipy.stats import linregress\n",
    "#(slope, intercept, rvalue, pvalue, stderr) = linregress(x_values, y_values)\n",
    "#regress_values = x_values * slope + intercept\n",
    "#line_eq = \"y = \" + str(round(slope,2)) + \"x + \" + str(round(intercept,2))\n",
    "#plt.scatter(x_values,y_values)\n",
    "#plt.plot(x_values,regress_values,\"r-\")\n",
    "#plt.annotate(line_eq,(6,10),fontsize=15,color=\"red\")\n",
    "#plt.xlabel('Unemplyment Rate (%)')\n",
    "#plt.ylabel('Well-Being Index Rank')\n",
    "\n",
    "# Print out the r-squared value along with the plot.\n",
    "\n",
    "#print(f\"The r-squared is: {rvalue}\")\n",
    "#plt.savefig('Unemployment Rate v. Well-Being Index Rank w regression')\n",
    "#plt.show()"
   ]
  },
  {
   "cell_type": "code",
   "execution_count": null,
   "id": "4f659bcc",
   "metadata": {},
   "outputs": [],
   "source": []
  },
  {
   "cell_type": "code",
   "execution_count": null,
   "id": "88111a5e",
   "metadata": {},
   "outputs": [],
   "source": []
  }
 ],
 "metadata": {
  "kernelspec": {
   "display_name": "Python 3 (ipykernel)",
   "language": "python",
   "name": "python3"
  },
  "language_info": {
   "codemirror_mode": {
    "name": "ipython",
    "version": 3
   },
   "file_extension": ".py",
   "mimetype": "text/x-python",
   "name": "python",
   "nbconvert_exporter": "python",
   "pygments_lexer": "ipython3",
   "version": "3.8.13"
  }
 },
 "nbformat": 4,
 "nbformat_minor": 5
}
