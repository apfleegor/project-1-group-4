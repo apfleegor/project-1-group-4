{
 "cells": [
  {
   "cell_type": "code",
   "execution_count": 1,
   "id": "6b457069",
   "metadata": {},
   "outputs": [],
   "source": [
    "# import dependencies\n",
    "import pandas as pd\n",
    "import matplotlib.pyplot as plt\n",
    "import numpy as np\n",
    "from scipy.stats import linregress\n",
    "import scipy.stats as st"
   ]
  },
  {
   "cell_type": "code",
   "execution_count": 2,
   "id": "2c8a9161",
   "metadata": {},
   "outputs": [],
   "source": [
    "# import data files\n",
    "happiness_df = pd.read_csv('../Resources/Gallup2018.csv')\n",
    "\n",
    "avg_temp_df = pd.read_csv('../Resources/Weather/Avg_Temp_2018.csv', header=3)\n",
    "max_temp_df = pd.read_csv('../Resources/Weather/Max_Temp_2018.csv', header=3)\n",
    "min_temp_df = pd.read_csv('../Resources/Weather/Min_Temp_2018.csv', header=3)\n",
    "precipitation_df = pd.read_csv('../Resources/Weather/Precipitation_2018.csv', header=3)"
   ]
  },
  {
   "cell_type": "markdown",
   "id": "cb58e5d0",
   "metadata": {},
   "source": [
    "### looking at the datasets"
   ]
  },
  {
   "cell_type": "code",
   "execution_count": 3,
   "id": "3a70f132",
   "metadata": {},
   "outputs": [
    {
     "data": {
      "text/html": [
       "<div>\n",
       "<style scoped>\n",
       "    .dataframe tbody tr th:only-of-type {\n",
       "        vertical-align: middle;\n",
       "    }\n",
       "\n",
       "    .dataframe tbody tr th {\n",
       "        vertical-align: top;\n",
       "    }\n",
       "\n",
       "    .dataframe thead th {\n",
       "        text-align: right;\n",
       "    }\n",
       "</style>\n",
       "<table border=\"1\" class=\"dataframe\">\n",
       "  <thead>\n",
       "    <tr style=\"text-align: right;\">\n",
       "      <th></th>\n",
       "      <th>State</th>\n",
       "      <th>2018 sample size</th>\n",
       "      <th>Well-Being Index</th>\n",
       "      <th>Well-Being Index Rank</th>\n",
       "      <th>Career</th>\n",
       "      <th>Social</th>\n",
       "      <th>Financial</th>\n",
       "      <th>Community</th>\n",
       "      <th>Physical</th>\n",
       "    </tr>\n",
       "  </thead>\n",
       "  <tbody>\n",
       "    <tr>\n",
       "      <th>0</th>\n",
       "      <td>Hawaii</td>\n",
       "      <td>502</td>\n",
       "      <td>64.6</td>\n",
       "      <td>1</td>\n",
       "      <td>1</td>\n",
       "      <td>1</td>\n",
       "      <td>1</td>\n",
       "      <td>4</td>\n",
       "      <td>4</td>\n",
       "    </tr>\n",
       "    <tr>\n",
       "      <th>1</th>\n",
       "      <td>Wyoming</td>\n",
       "      <td>219</td>\n",
       "      <td>64.2</td>\n",
       "      <td>2</td>\n",
       "      <td>3</td>\n",
       "      <td>18</td>\n",
       "      <td>6</td>\n",
       "      <td>1</td>\n",
       "      <td>3</td>\n",
       "    </tr>\n",
       "    <tr>\n",
       "      <th>2</th>\n",
       "      <td>Alaska</td>\n",
       "      <td>212</td>\n",
       "      <td>63.9</td>\n",
       "      <td>3</td>\n",
       "      <td>5</td>\n",
       "      <td>8</td>\n",
       "      <td>2</td>\n",
       "      <td>23</td>\n",
       "      <td>1</td>\n",
       "    </tr>\n",
       "    <tr>\n",
       "      <th>3</th>\n",
       "      <td>Montana</td>\n",
       "      <td>488</td>\n",
       "      <td>63.5</td>\n",
       "      <td>4</td>\n",
       "      <td>4</td>\n",
       "      <td>19</td>\n",
       "      <td>17</td>\n",
       "      <td>2</td>\n",
       "      <td>7</td>\n",
       "    </tr>\n",
       "    <tr>\n",
       "      <th>4</th>\n",
       "      <td>Utah</td>\n",
       "      <td>1214</td>\n",
       "      <td>63.4</td>\n",
       "      <td>5</td>\n",
       "      <td>2</td>\n",
       "      <td>4</td>\n",
       "      <td>13</td>\n",
       "      <td>9</td>\n",
       "      <td>14</td>\n",
       "    </tr>\n",
       "  </tbody>\n",
       "</table>\n",
       "</div>"
      ],
      "text/plain": [
       "     State  2018 sample size  Well-Being Index  Well-Being Index Rank  Career  \\\n",
       "0   Hawaii               502              64.6                      1       1   \n",
       "1  Wyoming               219              64.2                      2       3   \n",
       "2   Alaska               212              63.9                      3       5   \n",
       "3  Montana               488              63.5                      4       4   \n",
       "4     Utah              1214              63.4                      5       2   \n",
       "\n",
       "   Social  Financial  Community  Physical  \n",
       "0       1          1          4         4  \n",
       "1      18          6          1         3  \n",
       "2       8          2         23         1  \n",
       "3      19         17          2         7  \n",
       "4       4         13          9        14  "
      ]
     },
     "execution_count": 3,
     "metadata": {},
     "output_type": "execute_result"
    }
   ],
   "source": [
    "happiness_df.head()"
   ]
  },
  {
   "cell_type": "code",
   "execution_count": 4,
   "id": "1f2d7236",
   "metadata": {},
   "outputs": [
    {
     "data": {
      "text/html": [
       "<div>\n",
       "<style scoped>\n",
       "    .dataframe tbody tr th:only-of-type {\n",
       "        vertical-align: middle;\n",
       "    }\n",
       "\n",
       "    .dataframe tbody tr th {\n",
       "        vertical-align: top;\n",
       "    }\n",
       "\n",
       "    .dataframe thead th {\n",
       "        text-align: right;\n",
       "    }\n",
       "</style>\n",
       "<table border=\"1\" class=\"dataframe\">\n",
       "  <thead>\n",
       "    <tr style=\"text-align: right;\">\n",
       "      <th></th>\n",
       "      <th>Location ID</th>\n",
       "      <th>Location</th>\n",
       "      <th>Value</th>\n",
       "      <th>Rank</th>\n",
       "      <th>Anomaly (1901-2000 base period)</th>\n",
       "      <th>1901-2000 Mean</th>\n",
       "    </tr>\n",
       "  </thead>\n",
       "  <tbody>\n",
       "    <tr>\n",
       "      <th>0</th>\n",
       "      <td>100</td>\n",
       "      <td>Alabama</td>\n",
       "      <td>64.5</td>\n",
       "      <td>113.0</td>\n",
       "      <td>1.4</td>\n",
       "      <td>63.1</td>\n",
       "    </tr>\n",
       "    <tr>\n",
       "      <th>1</th>\n",
       "      <td>200</td>\n",
       "      <td>Arizona</td>\n",
       "      <td>62.3</td>\n",
       "      <td>125.0</td>\n",
       "      <td>2.9</td>\n",
       "      <td>59.4</td>\n",
       "    </tr>\n",
       "    <tr>\n",
       "      <th>2</th>\n",
       "      <td>300</td>\n",
       "      <td>Arkansas</td>\n",
       "      <td>61.2</td>\n",
       "      <td>96.0</td>\n",
       "      <td>0.8</td>\n",
       "      <td>60.4</td>\n",
       "    </tr>\n",
       "    <tr>\n",
       "      <th>3</th>\n",
       "      <td>400</td>\n",
       "      <td>California</td>\n",
       "      <td>60.1</td>\n",
       "      <td>122.0</td>\n",
       "      <td>2.7</td>\n",
       "      <td>57.4</td>\n",
       "    </tr>\n",
       "    <tr>\n",
       "      <th>4</th>\n",
       "      <td>500</td>\n",
       "      <td>Colorado</td>\n",
       "      <td>47.2</td>\n",
       "      <td>119.0</td>\n",
       "      <td>2.6</td>\n",
       "      <td>44.6</td>\n",
       "    </tr>\n",
       "  </tbody>\n",
       "</table>\n",
       "</div>"
      ],
      "text/plain": [
       "   Location ID    Location  Value   Rank  Anomaly (1901-2000 base period)  \\\n",
       "0          100     Alabama   64.5  113.0                              1.4   \n",
       "1          200     Arizona   62.3  125.0                              2.9   \n",
       "2          300    Arkansas   61.2   96.0                              0.8   \n",
       "3          400  California   60.1  122.0                              2.7   \n",
       "4          500    Colorado   47.2  119.0                              2.6   \n",
       "\n",
       "   1901-2000 Mean  \n",
       "0            63.1  \n",
       "1            59.4  \n",
       "2            60.4  \n",
       "3            57.4  \n",
       "4            44.6  "
      ]
     },
     "execution_count": 4,
     "metadata": {},
     "output_type": "execute_result"
    }
   ],
   "source": [
    "avg_temp_df.head()"
   ]
  },
  {
   "cell_type": "code",
   "execution_count": 5,
   "id": "3623e001",
   "metadata": {},
   "outputs": [
    {
     "data": {
      "text/html": [
       "<div>\n",
       "<style scoped>\n",
       "    .dataframe tbody tr th:only-of-type {\n",
       "        vertical-align: middle;\n",
       "    }\n",
       "\n",
       "    .dataframe tbody tr th {\n",
       "        vertical-align: top;\n",
       "    }\n",
       "\n",
       "    .dataframe thead th {\n",
       "        text-align: right;\n",
       "    }\n",
       "</style>\n",
       "<table border=\"1\" class=\"dataframe\">\n",
       "  <thead>\n",
       "    <tr style=\"text-align: right;\">\n",
       "      <th></th>\n",
       "      <th>Location ID</th>\n",
       "      <th>Location</th>\n",
       "      <th>Value</th>\n",
       "      <th>Rank</th>\n",
       "      <th>Anomaly (1901-2000 base period)</th>\n",
       "      <th>1901-2000 Mean</th>\n",
       "    </tr>\n",
       "  </thead>\n",
       "  <tbody>\n",
       "    <tr>\n",
       "      <th>0</th>\n",
       "      <td>100</td>\n",
       "      <td>Alabama</td>\n",
       "      <td>75.2</td>\n",
       "      <td>77.0</td>\n",
       "      <td>0.3</td>\n",
       "      <td>74.9</td>\n",
       "    </tr>\n",
       "    <tr>\n",
       "      <th>1</th>\n",
       "      <td>200</td>\n",
       "      <td>Arizona</td>\n",
       "      <td>76.5</td>\n",
       "      <td>123.0</td>\n",
       "      <td>3.1</td>\n",
       "      <td>73.4</td>\n",
       "    </tr>\n",
       "    <tr>\n",
       "      <th>2</th>\n",
       "      <td>300</td>\n",
       "      <td>Arkansas</td>\n",
       "      <td>71.5</td>\n",
       "      <td>59.0</td>\n",
       "      <td>-0.2</td>\n",
       "      <td>71.7</td>\n",
       "    </tr>\n",
       "    <tr>\n",
       "      <th>3</th>\n",
       "      <td>400</td>\n",
       "      <td>California</td>\n",
       "      <td>72.7</td>\n",
       "      <td>123.0</td>\n",
       "      <td>2.8</td>\n",
       "      <td>69.9</td>\n",
       "    </tr>\n",
       "    <tr>\n",
       "      <th>4</th>\n",
       "      <td>500</td>\n",
       "      <td>Colorado</td>\n",
       "      <td>61.3</td>\n",
       "      <td>121.0</td>\n",
       "      <td>2.9</td>\n",
       "      <td>58.4</td>\n",
       "    </tr>\n",
       "  </tbody>\n",
       "</table>\n",
       "</div>"
      ],
      "text/plain": [
       "   Location ID    Location  Value   Rank  Anomaly (1901-2000 base period)  \\\n",
       "0          100     Alabama   75.2   77.0                              0.3   \n",
       "1          200     Arizona   76.5  123.0                              3.1   \n",
       "2          300    Arkansas   71.5   59.0                             -0.2   \n",
       "3          400  California   72.7  123.0                              2.8   \n",
       "4          500    Colorado   61.3  121.0                              2.9   \n",
       "\n",
       "   1901-2000 Mean  \n",
       "0            74.9  \n",
       "1            73.4  \n",
       "2            71.7  \n",
       "3            69.9  \n",
       "4            58.4  "
      ]
     },
     "execution_count": 5,
     "metadata": {},
     "output_type": "execute_result"
    }
   ],
   "source": [
    "max_temp_df.head()"
   ]
  },
  {
   "cell_type": "code",
   "execution_count": 6,
   "id": "0505514a",
   "metadata": {},
   "outputs": [
    {
     "data": {
      "text/html": [
       "<div>\n",
       "<style scoped>\n",
       "    .dataframe tbody tr th:only-of-type {\n",
       "        vertical-align: middle;\n",
       "    }\n",
       "\n",
       "    .dataframe tbody tr th {\n",
       "        vertical-align: top;\n",
       "    }\n",
       "\n",
       "    .dataframe thead th {\n",
       "        text-align: right;\n",
       "    }\n",
       "</style>\n",
       "<table border=\"1\" class=\"dataframe\">\n",
       "  <thead>\n",
       "    <tr style=\"text-align: right;\">\n",
       "      <th></th>\n",
       "      <th>Location ID</th>\n",
       "      <th>Location</th>\n",
       "      <th>Value</th>\n",
       "      <th>Rank</th>\n",
       "      <th>Anomaly (1901-2000 base period)</th>\n",
       "      <th>1901-2000 Mean</th>\n",
       "    </tr>\n",
       "  </thead>\n",
       "  <tbody>\n",
       "    <tr>\n",
       "      <th>0</th>\n",
       "      <td>100</td>\n",
       "      <td>Alabama</td>\n",
       "      <td>53.7</td>\n",
       "      <td>121.0</td>\n",
       "      <td>2.5</td>\n",
       "      <td>51.2</td>\n",
       "    </tr>\n",
       "    <tr>\n",
       "      <th>1</th>\n",
       "      <td>200</td>\n",
       "      <td>Arizona</td>\n",
       "      <td>48.0</td>\n",
       "      <td>126.0</td>\n",
       "      <td>2.7</td>\n",
       "      <td>45.3</td>\n",
       "    </tr>\n",
       "    <tr>\n",
       "      <th>2</th>\n",
       "      <td>300</td>\n",
       "      <td>Arkansas</td>\n",
       "      <td>50.8</td>\n",
       "      <td>114.0</td>\n",
       "      <td>1.7</td>\n",
       "      <td>49.1</td>\n",
       "    </tr>\n",
       "    <tr>\n",
       "      <th>3</th>\n",
       "      <td>400</td>\n",
       "      <td>California</td>\n",
       "      <td>47.5</td>\n",
       "      <td>122.0</td>\n",
       "      <td>2.7</td>\n",
       "      <td>44.8</td>\n",
       "    </tr>\n",
       "    <tr>\n",
       "      <th>4</th>\n",
       "      <td>500</td>\n",
       "      <td>Colorado</td>\n",
       "      <td>33.0</td>\n",
       "      <td>119.0</td>\n",
       "      <td>2.2</td>\n",
       "      <td>30.8</td>\n",
       "    </tr>\n",
       "  </tbody>\n",
       "</table>\n",
       "</div>"
      ],
      "text/plain": [
       "   Location ID    Location  Value   Rank  Anomaly (1901-2000 base period)  \\\n",
       "0          100     Alabama   53.7  121.0                              2.5   \n",
       "1          200     Arizona   48.0  126.0                              2.7   \n",
       "2          300    Arkansas   50.8  114.0                              1.7   \n",
       "3          400  California   47.5  122.0                              2.7   \n",
       "4          500    Colorado   33.0  119.0                              2.2   \n",
       "\n",
       "   1901-2000 Mean  \n",
       "0            51.2  \n",
       "1            45.3  \n",
       "2            49.1  \n",
       "3            44.8  \n",
       "4            30.8  "
      ]
     },
     "execution_count": 6,
     "metadata": {},
     "output_type": "execute_result"
    }
   ],
   "source": [
    "min_temp_df.head()"
   ]
  },
  {
   "cell_type": "code",
   "execution_count": 7,
   "id": "954bc037",
   "metadata": {},
   "outputs": [
    {
     "data": {
      "text/html": [
       "<div>\n",
       "<style scoped>\n",
       "    .dataframe tbody tr th:only-of-type {\n",
       "        vertical-align: middle;\n",
       "    }\n",
       "\n",
       "    .dataframe tbody tr th {\n",
       "        vertical-align: top;\n",
       "    }\n",
       "\n",
       "    .dataframe thead th {\n",
       "        text-align: right;\n",
       "    }\n",
       "</style>\n",
       "<table border=\"1\" class=\"dataframe\">\n",
       "  <thead>\n",
       "    <tr style=\"text-align: right;\">\n",
       "      <th></th>\n",
       "      <th>Location ID</th>\n",
       "      <th>Location</th>\n",
       "      <th>Value</th>\n",
       "      <th>Rank</th>\n",
       "      <th>Anomaly (1901-2000 base period)</th>\n",
       "      <th>1901-2000 Mean</th>\n",
       "    </tr>\n",
       "  </thead>\n",
       "  <tbody>\n",
       "    <tr>\n",
       "      <th>0</th>\n",
       "      <td>100</td>\n",
       "      <td>Alabama</td>\n",
       "      <td>64.40</td>\n",
       "      <td>109.0</td>\n",
       "      <td>9.15</td>\n",
       "      <td>55.25</td>\n",
       "    </tr>\n",
       "    <tr>\n",
       "      <th>1</th>\n",
       "      <td>200</td>\n",
       "      <td>Arizona</td>\n",
       "      <td>11.67</td>\n",
       "      <td>59.0</td>\n",
       "      <td>-0.95</td>\n",
       "      <td>12.62</td>\n",
       "    </tr>\n",
       "    <tr>\n",
       "      <th>2</th>\n",
       "      <td>300</td>\n",
       "      <td>Arkansas</td>\n",
       "      <td>64.32</td>\n",
       "      <td>119.0</td>\n",
       "      <td>14.71</td>\n",
       "      <td>49.61</td>\n",
       "    </tr>\n",
       "    <tr>\n",
       "      <th>3</th>\n",
       "      <td>400</td>\n",
       "      <td>California</td>\n",
       "      <td>18.09</td>\n",
       "      <td>35.0</td>\n",
       "      <td>-4.30</td>\n",
       "      <td>22.39</td>\n",
       "    </tr>\n",
       "    <tr>\n",
       "      <th>4</th>\n",
       "      <td>500</td>\n",
       "      <td>Colorado</td>\n",
       "      <td>14.96</td>\n",
       "      <td>15.0</td>\n",
       "      <td>-3.16</td>\n",
       "      <td>18.12</td>\n",
       "    </tr>\n",
       "  </tbody>\n",
       "</table>\n",
       "</div>"
      ],
      "text/plain": [
       "   Location ID    Location  Value   Rank  Anomaly (1901-2000 base period)  \\\n",
       "0          100     Alabama  64.40  109.0                             9.15   \n",
       "1          200     Arizona  11.67   59.0                            -0.95   \n",
       "2          300    Arkansas  64.32  119.0                            14.71   \n",
       "3          400  California  18.09   35.0                            -4.30   \n",
       "4          500    Colorado  14.96   15.0                            -3.16   \n",
       "\n",
       "   1901-2000 Mean  \n",
       "0           55.25  \n",
       "1           12.62  \n",
       "2           49.61  \n",
       "3           22.39  \n",
       "4           18.12  "
      ]
     },
     "execution_count": 7,
     "metadata": {},
     "output_type": "execute_result"
    }
   ],
   "source": [
    "precipitation_df.head()"
   ]
  },
  {
   "cell_type": "markdown",
   "id": "2c0590e9",
   "metadata": {},
   "source": [
    "### cleaning the datasets / getting ready to merge"
   ]
  },
  {
   "cell_type": "code",
   "execution_count": 8,
   "id": "ab155885",
   "metadata": {},
   "outputs": [],
   "source": [
    "# clean each weather data set to get ready to merge\n",
    "avg_temp_df = avg_temp_df.rename(columns={'Location': 'State', 'Value': 'Avg_Temp'})\n",
    "avg_temp_df = avg_temp_df.drop(columns=['Location ID', 'Rank', 'Anomaly (1901-2000 base period)', '1901-2000 Mean'])\n",
    "\n",
    "max_temp_df = max_temp_df.rename(columns={'Location': 'State', 'Value': 'Max_Temp'})\n",
    "max_temp_df = max_temp_df.drop(columns=['Location ID', 'Rank', 'Anomaly (1901-2000 base period)', '1901-2000 Mean'])\n",
    "\n",
    "min_temp_df = min_temp_df.rename(columns={'Location': 'State', 'Value': 'Min_Temp'})\n",
    "min_temp_df = min_temp_df.drop(columns=['Location ID', 'Rank', 'Anomaly (1901-2000 base period)', '1901-2000 Mean'])\n",
    "\n",
    "precipitation_df = precipitation_df.rename(columns={'Location': 'State', 'Value': 'Precip'})\n",
    "precipitation_df = precipitation_df.drop(columns=['Location ID', 'Rank', 'Anomaly (1901-2000 base period)', '1901-2000 Mean'])"
   ]
  },
  {
   "cell_type": "code",
   "execution_count": 9,
   "id": "6a655b54",
   "metadata": {},
   "outputs": [],
   "source": [
    "# clean the happiness data set to get ready to merge\n",
    "happiness_df = happiness_df.drop(columns=['2018 sample size', 'Well-Being Index Rank', 'Career', 'Social', 'Financial', 'Physical'])"
   ]
  },
  {
   "cell_type": "markdown",
   "id": "c0b763da",
   "metadata": {},
   "source": [
    "### merge the datasets"
   ]
  },
  {
   "cell_type": "code",
   "execution_count": 10,
   "id": "bd870ed1",
   "metadata": {},
   "outputs": [
    {
     "data": {
      "text/html": [
       "<div>\n",
       "<style scoped>\n",
       "    .dataframe tbody tr th:only-of-type {\n",
       "        vertical-align: middle;\n",
       "    }\n",
       "\n",
       "    .dataframe tbody tr th {\n",
       "        vertical-align: top;\n",
       "    }\n",
       "\n",
       "    .dataframe thead th {\n",
       "        text-align: right;\n",
       "    }\n",
       "</style>\n",
       "<table border=\"1\" class=\"dataframe\">\n",
       "  <thead>\n",
       "    <tr style=\"text-align: right;\">\n",
       "      <th></th>\n",
       "      <th>State</th>\n",
       "      <th>Avg_Temp</th>\n",
       "      <th>Max_Temp</th>\n",
       "      <th>Min_Temp</th>\n",
       "      <th>Precip</th>\n",
       "    </tr>\n",
       "  </thead>\n",
       "  <tbody>\n",
       "    <tr>\n",
       "      <th>0</th>\n",
       "      <td>Alabama</td>\n",
       "      <td>64.5</td>\n",
       "      <td>75.2</td>\n",
       "      <td>53.7</td>\n",
       "      <td>64.40</td>\n",
       "    </tr>\n",
       "    <tr>\n",
       "      <th>1</th>\n",
       "      <td>Arizona</td>\n",
       "      <td>62.3</td>\n",
       "      <td>76.5</td>\n",
       "      <td>48.0</td>\n",
       "      <td>11.67</td>\n",
       "    </tr>\n",
       "    <tr>\n",
       "      <th>2</th>\n",
       "      <td>Arkansas</td>\n",
       "      <td>61.2</td>\n",
       "      <td>71.5</td>\n",
       "      <td>50.8</td>\n",
       "      <td>64.32</td>\n",
       "    </tr>\n",
       "    <tr>\n",
       "      <th>3</th>\n",
       "      <td>California</td>\n",
       "      <td>60.1</td>\n",
       "      <td>72.7</td>\n",
       "      <td>47.5</td>\n",
       "      <td>18.09</td>\n",
       "    </tr>\n",
       "    <tr>\n",
       "      <th>4</th>\n",
       "      <td>Colorado</td>\n",
       "      <td>47.2</td>\n",
       "      <td>61.3</td>\n",
       "      <td>33.0</td>\n",
       "      <td>14.96</td>\n",
       "    </tr>\n",
       "  </tbody>\n",
       "</table>\n",
       "</div>"
      ],
      "text/plain": [
       "        State  Avg_Temp  Max_Temp  Min_Temp  Precip\n",
       "0     Alabama      64.5      75.2      53.7   64.40\n",
       "1     Arizona      62.3      76.5      48.0   11.67\n",
       "2    Arkansas      61.2      71.5      50.8   64.32\n",
       "3  California      60.1      72.7      47.5   18.09\n",
       "4    Colorado      47.2      61.3      33.0   14.96"
      ]
     },
     "execution_count": 10,
     "metadata": {},
     "output_type": "execute_result"
    }
   ],
   "source": [
    "# merge all weather dataframes into one dataframe\n",
    "weather_df = pd.merge(avg_temp_df, max_temp_df, on='State')\n",
    "weather_df = pd.merge(weather_df, min_temp_df, on='State')\n",
    "weather_df = pd.merge(weather_df, precipitation_df, on='State')\n",
    "weather_df.head()"
   ]
  },
  {
   "cell_type": "code",
   "execution_count": 11,
   "id": "f4aface7",
   "metadata": {},
   "outputs": [
    {
     "data": {
      "text/html": [
       "<div>\n",
       "<style scoped>\n",
       "    .dataframe tbody tr th:only-of-type {\n",
       "        vertical-align: middle;\n",
       "    }\n",
       "\n",
       "    .dataframe tbody tr th {\n",
       "        vertical-align: top;\n",
       "    }\n",
       "\n",
       "    .dataframe thead th {\n",
       "        text-align: right;\n",
       "    }\n",
       "</style>\n",
       "<table border=\"1\" class=\"dataframe\">\n",
       "  <thead>\n",
       "    <tr style=\"text-align: right;\">\n",
       "      <th></th>\n",
       "      <th>State</th>\n",
       "      <th>Well-Being Index</th>\n",
       "      <th>Community</th>\n",
       "      <th>Avg_Temp</th>\n",
       "      <th>Max_Temp</th>\n",
       "      <th>Min_Temp</th>\n",
       "      <th>Precip</th>\n",
       "    </tr>\n",
       "  </thead>\n",
       "  <tbody>\n",
       "    <tr>\n",
       "      <th>0</th>\n",
       "      <td>Hawaii</td>\n",
       "      <td>64.6</td>\n",
       "      <td>4</td>\n",
       "      <td>78.1</td>\n",
       "      <td>84.0</td>\n",
       "      <td>73.5</td>\n",
       "      <td>16.93</td>\n",
       "    </tr>\n",
       "    <tr>\n",
       "      <th>1</th>\n",
       "      <td>Wyoming</td>\n",
       "      <td>64.2</td>\n",
       "      <td>1</td>\n",
       "      <td>42.4</td>\n",
       "      <td>55.5</td>\n",
       "      <td>29.4</td>\n",
       "      <td>16.12</td>\n",
       "    </tr>\n",
       "    <tr>\n",
       "      <th>2</th>\n",
       "      <td>Alaska</td>\n",
       "      <td>63.9</td>\n",
       "      <td>23</td>\n",
       "      <td>30.4</td>\n",
       "      <td>37.5</td>\n",
       "      <td>23.4</td>\n",
       "      <td>37.90</td>\n",
       "    </tr>\n",
       "    <tr>\n",
       "      <th>3</th>\n",
       "      <td>Montana</td>\n",
       "      <td>63.5</td>\n",
       "      <td>2</td>\n",
       "      <td>41.3</td>\n",
       "      <td>53.1</td>\n",
       "      <td>29.5</td>\n",
       "      <td>19.98</td>\n",
       "    </tr>\n",
       "    <tr>\n",
       "      <th>4</th>\n",
       "      <td>Utah</td>\n",
       "      <td>63.4</td>\n",
       "      <td>9</td>\n",
       "      <td>50.4</td>\n",
       "      <td>63.3</td>\n",
       "      <td>37.5</td>\n",
       "      <td>11.58</td>\n",
       "    </tr>\n",
       "  </tbody>\n",
       "</table>\n",
       "</div>"
      ],
      "text/plain": [
       "     State  Well-Being Index  Community  Avg_Temp  Max_Temp  Min_Temp  Precip\n",
       "0   Hawaii              64.6          4      78.1      84.0      73.5   16.93\n",
       "1  Wyoming              64.2          1      42.4      55.5      29.4   16.12\n",
       "2   Alaska              63.9         23      30.4      37.5      23.4   37.90\n",
       "3  Montana              63.5          2      41.3      53.1      29.5   19.98\n",
       "4     Utah              63.4          9      50.4      63.3      37.5   11.58"
      ]
     },
     "execution_count": 11,
     "metadata": {},
     "output_type": "execute_result"
    }
   ],
   "source": [
    "# merge the weather and happiness datasets together by State\n",
    "weather_happy_df = pd.merge(happiness_df, weather_df, on='State')\n",
    "weather_happy_df.head()"
   ]
  },
  {
   "cell_type": "markdown",
   "id": "57995b54",
   "metadata": {},
   "source": [
    "### exploratory basic analysis"
   ]
  },
  {
   "cell_type": "code",
   "execution_count": 12,
   "id": "dfa450b4",
   "metadata": {},
   "outputs": [
    {
     "data": {
      "text/html": [
       "<div>\n",
       "<style scoped>\n",
       "    .dataframe tbody tr th:only-of-type {\n",
       "        vertical-align: middle;\n",
       "    }\n",
       "\n",
       "    .dataframe tbody tr th {\n",
       "        vertical-align: top;\n",
       "    }\n",
       "\n",
       "    .dataframe thead th {\n",
       "        text-align: right;\n",
       "    }\n",
       "</style>\n",
       "<table border=\"1\" class=\"dataframe\">\n",
       "  <thead>\n",
       "    <tr style=\"text-align: right;\">\n",
       "      <th></th>\n",
       "      <th>Well-Being Index</th>\n",
       "      <th>Community</th>\n",
       "      <th>Avg_Temp</th>\n",
       "      <th>Max_Temp</th>\n",
       "      <th>Min_Temp</th>\n",
       "      <th>Precip</th>\n",
       "    </tr>\n",
       "  </thead>\n",
       "  <tbody>\n",
       "    <tr>\n",
       "      <th>count</th>\n",
       "      <td>50.000000</td>\n",
       "      <td>50.00000</td>\n",
       "      <td>50.000000</td>\n",
       "      <td>50.000000</td>\n",
       "      <td>50.000000</td>\n",
       "      <td>50.000000</td>\n",
       "    </tr>\n",
       "    <tr>\n",
       "      <th>mean</th>\n",
       "      <td>61.466000</td>\n",
       "      <td>25.50000</td>\n",
       "      <td>53.068000</td>\n",
       "      <td>63.662000</td>\n",
       "      <td>42.492000</td>\n",
       "      <td>43.551600</td>\n",
       "    </tr>\n",
       "    <tr>\n",
       "      <th>std</th>\n",
       "      <td>1.488817</td>\n",
       "      <td>14.57738</td>\n",
       "      <td>9.327432</td>\n",
       "      <td>9.446561</td>\n",
       "      <td>9.592192</td>\n",
       "      <td>19.294056</td>\n",
       "    </tr>\n",
       "    <tr>\n",
       "      <th>min</th>\n",
       "      <td>57.000000</td>\n",
       "      <td>1.00000</td>\n",
       "      <td>30.400000</td>\n",
       "      <td>37.500000</td>\n",
       "      <td>23.400000</td>\n",
       "      <td>9.270000</td>\n",
       "    </tr>\n",
       "    <tr>\n",
       "      <th>25%</th>\n",
       "      <td>60.650000</td>\n",
       "      <td>13.25000</td>\n",
       "      <td>46.450000</td>\n",
       "      <td>56.450000</td>\n",
       "      <td>35.875000</td>\n",
       "      <td>26.362500</td>\n",
       "    </tr>\n",
       "    <tr>\n",
       "      <th>50%</th>\n",
       "      <td>61.500000</td>\n",
       "      <td>25.50000</td>\n",
       "      <td>52.350000</td>\n",
       "      <td>62.800000</td>\n",
       "      <td>42.350000</td>\n",
       "      <td>46.120000</td>\n",
       "    </tr>\n",
       "    <tr>\n",
       "      <th>75%</th>\n",
       "      <td>62.425000</td>\n",
       "      <td>37.75000</td>\n",
       "      <td>59.850000</td>\n",
       "      <td>70.700000</td>\n",
       "      <td>48.000000</td>\n",
       "      <td>62.925000</td>\n",
       "    </tr>\n",
       "    <tr>\n",
       "      <th>max</th>\n",
       "      <td>64.600000</td>\n",
       "      <td>50.00000</td>\n",
       "      <td>78.100000</td>\n",
       "      <td>84.000000</td>\n",
       "      <td>73.500000</td>\n",
       "      <td>68.350000</td>\n",
       "    </tr>\n",
       "  </tbody>\n",
       "</table>\n",
       "</div>"
      ],
      "text/plain": [
       "       Well-Being Index  Community   Avg_Temp   Max_Temp   Min_Temp     Precip\n",
       "count         50.000000   50.00000  50.000000  50.000000  50.000000  50.000000\n",
       "mean          61.466000   25.50000  53.068000  63.662000  42.492000  43.551600\n",
       "std            1.488817   14.57738   9.327432   9.446561   9.592192  19.294056\n",
       "min           57.000000    1.00000  30.400000  37.500000  23.400000   9.270000\n",
       "25%           60.650000   13.25000  46.450000  56.450000  35.875000  26.362500\n",
       "50%           61.500000   25.50000  52.350000  62.800000  42.350000  46.120000\n",
       "75%           62.425000   37.75000  59.850000  70.700000  48.000000  62.925000\n",
       "max           64.600000   50.00000  78.100000  84.000000  73.500000  68.350000"
      ]
     },
     "execution_count": 12,
     "metadata": {},
     "output_type": "execute_result"
    }
   ],
   "source": [
    "weather_happy_df.describe()"
   ]
  },
  {
   "cell_type": "markdown",
   "id": "81a9e3a7",
   "metadata": {},
   "source": [
    "### graphing and testing correlation"
   ]
  },
  {
   "cell_type": "code",
   "execution_count": 13,
   "id": "9351cc3f",
   "metadata": {},
   "outputs": [],
   "source": [
    "# save the columns as variables to make graphing easier\n",
    "well_being = weather_happy_df.iloc[:,1]\n",
    "avg_temp = weather_happy_df.iloc[:,3]\n",
    "max_temp = weather_happy_df.iloc[:,4]\n",
    "min_temp = weather_happy_df.iloc[:,5]\n",
    "precip = weather_happy_df.iloc[:,6]"
   ]
  },
  {
   "cell_type": "markdown",
   "id": "f47b4fea",
   "metadata": {},
   "source": [
    "#### happiness vs average temperature"
   ]
  },
  {
   "cell_type": "code",
   "execution_count": 14,
   "id": "d7b0cd42",
   "metadata": {},
   "outputs": [
    {
     "data": {
      "image/png": "[encoded data removed]",
      "text/plain": [
       "<Figure size 432x288 with 1 Axes>"
      ]
     },
     "metadata": {
      "needs_background": "light"
     },
     "output_type": "display_data"
    }
   ],
   "source": [
    "# happiness vs average temperture\n",
    "\n",
    "# plot the scatter plot\n",
    "plt.scatter(well_being, avg_temp)\n",
    "\n",
    "# formatting\n",
    "plt.xlabel('Well-Being Index')\n",
    "plt.ylabel('Average Temperature (F)')\n",
    "plt.title('Well-Being Index vs. Average Temperature in each State (2018)')\n",
    "\n",
    "plt.show()"
   ]
  },
  {
   "cell_type": "code",
   "execution_count": 15,
   "id": "2af9abca",
   "metadata": {},
   "outputs": [
    {
     "name": "stdout",
     "output_type": "stream",
     "text": [
      "The r-squared is: 0.12681176072835904\n",
      "The correlation between both factors is -0.36\n"
     ]
    },
    {
     "data": {
      "image/png": "[encoded data removed]",
      "text/plain": [
       "<Figure size 432x288 with 1 Axes>"
      ]
     },
     "metadata": {
      "needs_background": "light"
     },
     "output_type": "display_data"
    }
   ],
   "source": [
    "# calculate the linear regression model\n",
    "(slope, intercept, rvalue, pvalue, stderr) = linregress(well_being, avg_temp)\n",
    "regress_values = well_being * slope + intercept\n",
    "\n",
    "# create the line equation string to go onto the plot\n",
    "line_eq = \"y = \" + str(round(slope,2)) + \"x + \" + str(round(intercept,2))\n",
    "\n",
    "# plot the scatter plot and regression line\n",
    "plt.scatter(well_being, avg_temp)\n",
    "plt.plot(well_being, regress_values, 'r-')\n",
    "\n",
    "# formatting\n",
    "plt.annotate(line_eq,(57.5, 35),fontsize=15,color=\"red\")\n",
    "plt.xlabel('Well-Being Index')\n",
    "plt.ylabel('Average Temperature (F)')\n",
    "plt.title('Well-Being Index vs. Average Temperature in each State (2018)')\n",
    "\n",
    "# print r-squared value\n",
    "print(f\"The r-squared is: {rvalue**2}\")\n",
    "\n",
    "# print the correlation\n",
    "correlation = st.pearsonr(well_being, avg_temp)\n",
    "print(f\"The correlation between both factors is {round(correlation[0],2)}\")\n",
    "\n",
    "# save image of plot\n",
    "plt.savefig(\"../Images/WellBeingVAvgTemp.png\")"
   ]
  },
  {
   "cell_type": "markdown",
   "id": "f25eacc1",
   "metadata": {},
   "source": [
    "#### happiness vs. maximum temperature"
   ]
  },
  {
   "cell_type": "code",
   "execution_count": 16,
   "id": "011cc09e",
   "metadata": {},
   "outputs": [
    {
     "data": {
      "image/png": "[encoded data removed]",
      "text/plain": [
       "<Figure size 432x288 with 1 Axes>"
      ]
     },
     "metadata": {
      "needs_background": "light"
     },
     "output_type": "display_data"
    }
   ],
   "source": [
    "# happiness vs maximum temperture\n",
    "\n",
    "# plot the scatter plot\n",
    "plt.scatter(well_being, max_temp)\n",
    "\n",
    "# formatting\n",
    "plt.xlabel('Well-Being Index')\n",
    "plt.ylabel('Average Maximum Temperature (F)')\n",
    "plt.title('Well-Being Index vs. Maximum Temperature in each State (2018)')\n",
    "\n",
    "plt.show()"
   ]
  },
  {
   "cell_type": "code",
   "execution_count": 17,
   "id": "d6fd422a",
   "metadata": {},
   "outputs": [
    {
     "name": "stdout",
     "output_type": "stream",
     "text": [
      "The r-squared is: 0.1176167710655919\n",
      "The correlation between both factors is -0.34\n"
     ]
    },
    {
     "data": {
      "image/png": "[encoded data removed]",
      "text/plain": [
       "<Figure size 432x288 with 1 Axes>"
      ]
     },
     "metadata": {
      "needs_background": "light"
     },
     "output_type": "display_data"
    }
   ],
   "source": [
    "# calculate the linear regression model\n",
    "(slope, intercept, rvalue, pvalue, stderr) = linregress(well_being, max_temp)\n",
    "regress_values = well_being * slope + intercept\n",
    "\n",
    "# create the line equation string to go onto the plot\n",
    "line_eq = \"y = \" + str(round(slope,2)) + \"x + \" + str(round(intercept,2))\n",
    "\n",
    "# plot the scatter plot and regression line\n",
    "plt.scatter(well_being, max_temp)\n",
    "plt.plot(well_being, regress_values, 'r-')\n",
    "\n",
    "# formatting\n",
    "plt.annotate(line_eq,(57.5, 40),fontsize=15,color=\"red\")\n",
    "plt.xlabel('Well-Being Index')\n",
    "plt.ylabel('Average Maximum Temperature (F)')\n",
    "plt.title('Well-Being Index vs. Maximum Temperature in each State (2018)')\n",
    "\n",
    "# print r-squared value\n",
    "print(f\"The r-squared is: {rvalue**2}\")\n",
    "\n",
    "# print the correlation\n",
    "correlation = st.pearsonr(well_being, max_temp)\n",
    "print(f\"The correlation between both factors is {round(correlation[0],2)}\")\n",
    "\n",
    "# save image of plot\n",
    "plt.savefig(\"../Images/WellBeingVMaxTemp.png\")"
   ]
  },
  {
   "cell_type": "markdown",
   "id": "f332e740",
   "metadata": {},
   "source": [
    "#### happiness vs. minimum temperature"
   ]
  },
  {
   "cell_type": "code",
   "execution_count": 18,
   "id": "3295c2b1",
   "metadata": {},
   "outputs": [
    {
     "data": {
      "image/png": "[encoded data removed]",
      "text/plain": [
       "<Figure size 432x288 with 1 Axes>"
      ]
     },
     "metadata": {
      "needs_background": "light"
     },
     "output_type": "display_data"
    }
   ],
   "source": [
    "# happiness vs minimum temperture\n",
    "\n",
    "# plot the scatter plot\n",
    "plt.scatter(well_being, min_temp)\n",
    "\n",
    "# formatting\n",
    "plt.xlabel('Well-Being Index')\n",
    "plt.ylabel('Average Minimum Temperature (F)')\n",
    "plt.title('Well-Being Index vs. Minimum Temperature in each State (2018)')\n",
    "\n",
    "plt.show()"
   ]
  },
  {
   "cell_type": "code",
   "execution_count": 19,
   "id": "3b09d49f",
   "metadata": {},
   "outputs": [
    {
     "name": "stdout",
     "output_type": "stream",
     "text": [
      "The r-squared is: 0.12026373548405114\n",
      "The correlation between both factors is -0.35\n"
     ]
    },
    {
     "data": {
      "image/png": "[encoded data removed]",
      "text/plain": [
       "<Figure size 432x288 with 1 Axes>"
      ]
     },
     "metadata": {
      "needs_background": "light"
     },
     "output_type": "display_data"
    }
   ],
   "source": [
    "# calculate the linear regression model\n",
    "(slope, intercept, rvalue, pvalue, stderr) = linregress(well_being, min_temp)\n",
    "regress_values = well_being * slope + intercept\n",
    "\n",
    "# create the line equation string to go onto the plot\n",
    "line_eq = \"y = \" + str(round(slope,2)) + \"x + \" + str(round(intercept,2))\n",
    "\n",
    "# plot the scatter plot and regression line\n",
    "plt.scatter(well_being, min_temp)\n",
    "plt.plot(well_being, regress_values, 'r-')\n",
    "\n",
    "# formatting\n",
    "plt.annotate(line_eq,(57.5, 25),fontsize=15,color=\"red\")\n",
    "plt.xlabel('Well-Being Index')\n",
    "plt.ylabel('Average Minimum Temperature (F)')\n",
    "plt.title('Well-Being Index vs. Minimum Temperature in each State (2018)')\n",
    "\n",
    "# print r-squared value\n",
    "print(f\"The r-squared is: {rvalue**2}\")\n",
    "\n",
    "# print the correlation\n",
    "correlation = st.pearsonr(well_being, min_temp)\n",
    "print(f\"The correlation between both factors is {round(correlation[0],2)}\")\n",
    "\n",
    "# save image of plot\n",
    "plt.savefig(\"../Images/WellBeingVMinTemp.png\")"
   ]
  },
  {
   "cell_type": "markdown",
   "id": "273620ff",
   "metadata": {},
   "source": [
    "#### happiness vs. precipitation"
   ]
  },
  {
   "cell_type": "code",
   "execution_count": 20,
   "id": "e6543847",
   "metadata": {},
   "outputs": [
    {
     "data": {
      "image/png": "[encoded data removed]",
      "text/plain": [
       "<Figure size 432x288 with 1 Axes>"
      ]
     },
     "metadata": {
      "needs_background": "light"
     },
     "output_type": "display_data"
    }
   ],
   "source": [
    "# happiness vs minimum temperture\n",
    "\n",
    "# plot the scatter plot\n",
    "plt.scatter(well_being, precip)\n",
    "\n",
    "# formatting\n",
    "plt.xlabel('Well-Being Index')\n",
    "plt.ylabel('Total Precipitation (inches)')\n",
    "plt.title('Well-Being Index vs. Total Precipitation in each State (2018)')\n",
    "\n",
    "plt.show()"
   ]
  },
  {
   "cell_type": "code",
   "execution_count": 21,
   "id": "eee3e64c",
   "metadata": {},
   "outputs": [
    {
     "name": "stdout",
     "output_type": "stream",
     "text": [
      "The r-squared is: 0.34879399312899567\n",
      "The correlation between both factors is -0.59\n"
     ]
    },
    {
     "data": {
      "image/png": "[encoded data removed]",
      "text/plain": [
       "<Figure size 432x288 with 1 Axes>"
      ]
     },
     "metadata": {
      "needs_background": "light"
     },
     "output_type": "display_data"
    }
   ],
   "source": [
    "# calculate the linear regression model\n",
    "(slope, intercept, rvalue, pvalue, stderr) = linregress(well_being, precip)\n",
    "regress_values = well_being * slope + intercept\n",
    "\n",
    "# create the line equation string to go onto the plot\n",
    "line_eq = \"y = \" + str(round(slope,2)) + \"x + \" + str(round(intercept,2))\n",
    "\n",
    "# plot the scatter plot and regression line\n",
    "plt.scatter(well_being, precip)\n",
    "plt.plot(well_being, regress_values, 'r-')\n",
    "\n",
    "# formatting\n",
    "plt.annotate(line_eq,(57.5,15),fontsize=15,color=\"red\")\n",
    "plt.xlabel('Well-Being Index')\n",
    "plt.ylabel('Total Precipitation (inches)')\n",
    "plt.title('Well-Being Index vs. Total Precipitation in each State (2018)')\n",
    "\n",
    "# print r-squared value\n",
    "print(f\"The r-squared is: {rvalue**2}\")\n",
    "\n",
    "# print the correlation\n",
    "correlation = st.pearsonr(well_being, precip)\n",
    "print(f\"The correlation between both factors is {round(correlation[0],2)}\")\n",
    "\n",
    "# save image of plot\n",
    "plt.savefig(\"../Images/WellBeingVPrecip.png\")"
   ]
  },
  {
   "cell_type": "code",
   "execution_count": null,
   "id": "7881167a",
   "metadata": {},
   "outputs": [],
   "source": []
  }
 ],
 "metadata": {
  "kernelspec": {
   "display_name": "Python 3 (ipykernel)",
   "language": "python",
   "name": "python3"
  },
  "language_info": {
   "codemirror_mode": {
    "name": "ipython",
    "version": 3
   },
   "file_extension": ".py",
   "mimetype": "text/x-python",
   "name": "python",
   "nbconvert_exporter": "python",
   "pygments_lexer": "ipython3",
   "version": "3.9.12"
  }
 },
 "nbformat": 4,
 "nbformat_minor": 5
}
